{
 "cells": [
  {
   "cell_type": "code",
   "execution_count": 19,
   "id": "0f559a9a-4ea2-40b3-9f41-33e065d1d7c0",
   "metadata": {},
   "outputs": [],
   "source": [
    "# import libraries \n",
    "\n",
    "from bs4 import BeautifulSoup # it allows users to extract specific data from web pages. \n",
    "import requests # This module is used to send HTTP requests in Python\n",
    "import smtplib  # Simple Mail Transfer Protocol Library\n",
    "import time \n",
    "import datetime\n",
    "import csv"
   ]
  },
  {
   "cell_type": "code",
   "execution_count": 43,
   "id": "f36f7e8d-74ba-4fa5-9661-d775c03b7000",
   "metadata": {},
   "outputs": [
    {
     "name": "stdout",
     "output_type": "stream",
     "text": [
      "\n",
      "                    adidas Damen Vl Court 3.0 Shoes Schuhe\n",
      "                   \n",
      "\n",
      "                        56,90€\n",
      "                       \n"
     ]
    }
   ],
   "source": [
    "# Connect to Website and pull in data \n",
    "\n",
    "URL = \"https://www.amazon.de/adidas-Damen-Court-Sneaker-Three/dp/B0C598PYWT/ref=sr_1_8?crid=3RDT7U5MF7GZ0&dib=eyJ2IjoiMSJ9.R1kKI9By0w0YJzuVmppTlzrn1ozJW1FEW0zCzoWUBt9vxjYtqelYgeBRtsuYEk6vdQU4RMuKNXzOy-TpwXt3hZZ2OEOcZFcOAlLWjEo4kOVW7_yGQcrplGyYgu2GoBcLzfMyhUm5xr6Rq6r2KRXv_eGBU1gY_yPaL-6MZkMDJCWjbYUrB5Y2r_k5BQ7JCyzv6AhMP9gYbIAFiUJ6jazN97bzlW7T2stBkO6WIgUvCxW__5cpLTfT_mgvwJf3TxPLWVJryYGTJNz56ZLCZwIEPMVRRHm0LB2GnjOnsILhFvs.h_laLaxJ47zh21rb1YdycY9USlWUVGVyjHamH2ouIhg&dib_tag=se&keywords=adidas%2Bschuhe%2Bdamen&qid=1740669817&sprefix=adid%2Caps%2C114&sr=8-8&th=1\"\n",
    "\n",
    "headers = {\"User-Agent\": \"Mozilla/5.0 (Windows NT 10.0; Win64; x64) AppleWebKit/537.36 (KHTML, like Gecko) Chrome/78.0.3904.108 Safari/537.36\", \"Accept-Encoding\":\"gzip, deflate\", \"Accept\":\"text/html,application/xhtml+xml,application/xml;q=0.9,*/*;q=0.8\", \"DNT\":\"1\",\"Connection\":\"close\", \"Upgrade-Insecure-Requests\":\"1\"}\n",
    "\n",
    "page = requests.get(URL, headers = headers)\n",
    "\n",
    "soup1 = BeautifulSoup(page.content, \"html.parser\")\n",
    "\n",
    "soup2 = BeautifulSoup(soup1.prettify(), \"html.parser\") #\n",
    "\n",
    "title = soup2.find(id = \"productTitle\").get_text()\n",
    "\n",
    "price = soup2.find(\"span\", class_=\"a-offscreen\").get_text()\n",
    "\n",
    "print(title)\n",
    "print(price)"
   ]
  },
  {
   "cell_type": "code",
   "execution_count": 45,
   "id": "6955472e-4c83-42e4-930a-04c5b3b50330",
   "metadata": {},
   "outputs": [
    {
     "name": "stdout",
     "output_type": "stream",
     "text": [
      "adidas Damen Vl Court 3.0 Shoes Schuhe\n",
      "56,90\n"
     ]
    }
   ],
   "source": [
    "# Clean up the data a little bit\n",
    "\n",
    "price = price.strip()[:-1]\n",
    "title = title.strip()\n",
    "\n",
    "print(title)\n",
    "print(price)"
   ]
  },
  {
   "cell_type": "code",
   "execution_count": 59,
   "id": "cf74ab70-259f-4973-8a83-855cfe8e1085",
   "metadata": {},
   "outputs": [
    {
     "name": "stdout",
     "output_type": "stream",
     "text": [
      "2025-02-27\n"
     ]
    }
   ],
   "source": [
    "# Create a Timestamp for your output to track when data was collected\n",
    "\n",
    "import datetime \n",
    "\n",
    "today = datetime.date.today()\n",
    "\n",
    "print(today)"
   ]
  },
  {
   "cell_type": "code",
   "execution_count": 61,
   "id": "1285a189-0840-440f-985e-6cfe29237581",
   "metadata": {},
   "outputs": [],
   "source": [
    "# Create CSV and write headers and data into the file\n",
    "\n",
    "header = [\"Title\", \"Price\", \"Date\"]\n",
    "data = [title, price, today]\n",
    "\n",
    "with open(\"AmazonWebScraperDataset.csv\" , \"w\" , newline = \"\", encoding=\"UTF8\") as f:\n",
    "    writer = csv.writer(f)\n",
    "    writer.writerow(header)\n",
    "    writer.writerow(data)\n",
    "\n"
   ]
  },
  {
   "cell_type": "code",
   "execution_count": 81,
   "id": "719f7eec-c78f-48b8-ba73-bcb68b4055b7",
   "metadata": {},
   "outputs": [
    {
     "name": "stdout",
     "output_type": "stream",
     "text": [
      "                                    Title  Price        Date\n",
      "0  adidas Damen Vl Court 3.0 Shoes Schuhe  56,90  2025-02-27\n",
      "1  adidas Damen Vl Court 3.0 Shoes Schuhe  56,90  2025-02-27\n",
      "2  adidas Damen Vl Court 3.0 Shoes Schuhe  56,90  2025-02-27\n"
     ]
    }
   ],
   "source": [
    "import pandas as pd\n",
    "\n",
    "df = pd.read_csv(\"/Users/yavnikajangu/AmazonWebScraperDataset.csv\")\n",
    "\n",
    "print(df)\n"
   ]
  },
  {
   "cell_type": "code",
   "execution_count": 79,
   "id": "5412878b-be49-4bd0-b4bf-b36f6646f525",
   "metadata": {},
   "outputs": [],
   "source": [
    "#Now we are appending data to the csv\n",
    "\n",
    "with open(\"AmazonWebScraperDataset.csv\" , \"a+\" , newline = \"\", encoding=\"UTF8\") as f:\n",
    "    writer = csv.writer(f)\n",
    "    writer.writerow(data)\n",
    "\n",
    "\n",
    "\n"
   ]
  },
  {
   "cell_type": "code",
   "execution_count": 87,
   "id": "c48f8863-4577-48ab-9576-f28a7fd6d67f",
   "metadata": {},
   "outputs": [],
   "source": [
    "#Combine all of the above code into one function\n",
    "\n",
    "def check_price():\n",
    "    URL = \"https://www.amazon.de/adidas-Damen-Court-Sneaker-Three/dp/B0C598PYWT/ref=sr_1_8?crid=3RDT7U5MF7GZ0&dib=eyJ2IjoiMSJ9.R1kKI9By0w0YJzuVmppTlzrn1ozJW1FEW0zCzoWUBt9vxjYtqelYgeBRtsuYEk6vdQU4RMuKNXzOy-TpwXt3hZZ2OEOcZFcOAlLWjEo4kOVW7_yGQcrplGyYgu2GoBcLzfMyhUm5xr6Rq6r2KRXv_eGBU1gY_yPaL-6MZkMDJCWjbYUrB5Y2r_k5BQ7JCyzv6AhMP9gYbIAFiUJ6jazN97bzlW7T2stBkO6WIgUvCxW__5cpLTfT_mgvwJf3TxPLWVJryYGTJNz56ZLCZwIEPMVRRHm0LB2GnjOnsILhFvs.h_laLaxJ47zh21rb1YdycY9USlWUVGVyjHamH2ouIhg&dib_tag=se&keywords=adidas%2Bschuhe%2Bdamen&qid=1740669817&sprefix=adid%2Caps%2C114&sr=8-8&th=1\"\n",
    "\n",
    "    headers = {\"User-Agent\": \"Mozilla/5.0 (Windows NT 10.0; Win64; x64) AppleWebKit/537.36 (KHTML, like Gecko) Chrome/78.0.3904.108 Safari/537.36\", \"Accept-Encoding\":\"gzip, deflate\", \"Accept\":\"text/html,application/xhtml+xml,application/xml;q=0.9,*/*;q=0.8\", \"DNT\":\"1\",\"Connection\":\"close\", \"Upgrade-Insecure-Requests\":\"1\"}\n",
    "\n",
    "    page = requests.get(URL, headers = headers)\n",
    "\n",
    "    soup1 = BeautifulSoup(page.content, \"html.parser\")\n",
    "\n",
    "    soup2 = BeautifulSoup(soup1.prettify(), \"html.parser\") #\n",
    "\n",
    "    title = soup2.find(id = \"productTitle\").get_text()\n",
    "\n",
    "    price = soup2.find(\"span\", class_=\"a-offscreen\").get_text()\n",
    "\n",
    "    price = price.strip()[:-1]\n",
    "    title = title.strip()\n",
    "\n",
    "    import datetime\n",
    "    \n",
    "    today = datetime.date.today()\n",
    "\n",
    "    import csv\n",
    "\n",
    "    header = [\"Title\", \"Price\", \"Date\"]\n",
    "    data = [title, price, today]\n",
    "\n",
    "    with open(\"AmazonWebScraperDataset.csv\" , \"a+\" , newline = \"\", encoding=\"UTF8\") as f:\n",
    "        writer = csv.writer(f)\n",
    "        writer.writerow(data)\n",
    "        "
   ]
  },
  {
   "cell_type": "code",
   "execution_count": null,
   "id": "de2d8e5a-03c6-441d-901b-a79ab61416f3",
   "metadata": {},
   "outputs": [],
   "source": [
    "# Runs check_price after a set time and inputs data into your CSV\n",
    "\n",
    "while(True):\n",
    "    check_price()\n",
    "    time.sleep(86400)"
   ]
  },
  {
   "cell_type": "code",
   "execution_count": 91,
   "id": "d2191f12-f459-4649-8a16-0faa231a1020",
   "metadata": {},
   "outputs": [
    {
     "name": "stdout",
     "output_type": "stream",
     "text": [
      "                                    Title  Price        Date\n",
      "0  adidas Damen Vl Court 3.0 Shoes Schuhe  56,90  2025-02-27\n",
      "1  adidas Damen Vl Court 3.0 Shoes Schuhe  56,90  2025-02-27\n",
      "2  adidas Damen Vl Court 3.0 Shoes Schuhe  56,90  2025-02-27\n",
      "3  adidas Damen Vl Court 3.0 Shoes Schuhe  56,90  2025-02-27\n",
      "4  adidas Damen Vl Court 3.0 Shoes Schuhe  56,90  2025-02-27\n",
      "5  adidas Damen Vl Court 3.0 Shoes Schuhe  56,90  2025-02-27\n",
      "6  adidas Damen Vl Court 3.0 Shoes Schuhe  56,90  2025-02-27\n",
      "7  adidas Damen Vl Court 3.0 Shoes Schuhe  56,90  2025-02-27\n"
     ]
    }
   ],
   "source": [
    "import pandas as pd\n",
    "\n",
    "df = pd.read_csv(\"/Users/yavnikajangu/AmazonWebScraperDataset.csv\")\n",
    "\n",
    "print(df)"
   ]
  },
  {
   "cell_type": "code",
   "execution_count": null,
   "id": "dd99f9a9-126b-4a60-99b5-5f136efbcc02",
   "metadata": {},
   "outputs": [],
   "source": [
    "# If i want to send myself an email (just for fun) when a price hits below a certain level\n",
    "\n",
    "def send_mail():\n",
    "    server = smtplib.SMTP_SSL(\"smtp.gmail.com\",465)\n",
    "    server.ehlo()\n",
    "    #server.starttls()\n",
    "    server.ehlo()\n",
    "    server.login(\"yavnikajangu01@gmail.com\",\"xxxxxxxxxxxxxx\")\n",
    "    \n",
    "    subject = \"The shoes I want is below $15! Now is my chance to buy!\"\n",
    "    body = \"Yavnika, This is the moment we have been waiting for. Now is your chance to pick up the shirt of your dreams. Don't mess it up! Link here: https://www.amazon.de/adidas-Damen-Court-Sneaker-Three/dp/B0C598PYWT/ref=sr_1_8?crid=3RDT7U5MF7GZ0&dib=eyJ2IjoiMSJ9.R1kKI9By0w0YJzuVmppTlzrn1ozJW1FEW0zCzoWUBt9vxjYtqelYgeBRtsuYEk6vdQU4RMuKNXzOy-TpwXt3hZZ2OEOcZFcOAlLWjEo4kOVW7_yGQcrplGyYgu2GoBcLzfMyhUm5xr6Rq6r2KRXv_eGBU1gY_yPaL-6MZkMDJCWjbYUrB5Y2r_k5BQ7JCyzv6AhMP9gYbIAFiUJ6jazN97bzlW7T2stBkO6WIgUvCxW__5cpLTfT_mgvwJf3TxPLWVJryYGTJNz56ZLCZwIEPMVRRHm0LB2GnjOnsILhFvs.h_laLaxJ47zh21rb1YdycY9USlWUVGVyjHamH2ouIhg&dib_tag=se&keywords=adidas%2Bschuhe%2Bdamen&qid=1740669817&sprefix=adid%2Caps%2C114&sr=8-8&th=1\"\n",
    "   \n",
    "    msg = f\"Subject: {subject}\\n\\n{body}\"\n",
    "    \n",
    "    server.sendmail(\n",
    "        \"yavnikajangu01@gmail.com\",\n",
    "        msg\n",
    "     \n",
    "    )"
   ]
  },
  {
   "cell_type": "code",
   "execution_count": null,
   "id": "d83115e9-af9f-4e6c-aca3-cb036e357dee",
   "metadata": {},
   "outputs": [],
   "source": []
  },
  {
   "cell_type": "code",
   "execution_count": null,
   "id": "cc1d2d24-6527-4da4-8425-fe0bd7373864",
   "metadata": {},
   "outputs": [],
   "source": []
  },
  {
   "cell_type": "code",
   "execution_count": null,
   "id": "0771032a-8e90-41fd-a4ec-93c78ccbe554",
   "metadata": {},
   "outputs": [],
   "source": []
  },
  {
   "cell_type": "code",
   "execution_count": null,
   "id": "ba2dfbf5-38fc-4d28-bfed-4c6e90f73d36",
   "metadata": {},
   "outputs": [],
   "source": []
  },
  {
   "cell_type": "code",
   "execution_count": null,
   "id": "c710bd75-61e6-4a5e-a5d5-95b99522cd59",
   "metadata": {},
   "outputs": [],
   "source": []
  },
  {
   "cell_type": "code",
   "execution_count": null,
   "id": "94f618c3-8181-45bb-93fd-76f1de866779",
   "metadata": {},
   "outputs": [],
   "source": []
  }
 ],
 "metadata": {
  "kernelspec": {
   "display_name": "Python 3 (ipykernel)",
   "language": "python",
   "name": "python3"
  },
  "language_info": {
   "codemirror_mode": {
    "name": "ipython",
    "version": 3
   },
   "file_extension": ".py",
   "mimetype": "text/x-python",
   "name": "python",
   "nbconvert_exporter": "python",
   "pygments_lexer": "ipython3",
   "version": "3.12.4"
  }
 },
 "nbformat": 4,
 "nbformat_minor": 5
}
